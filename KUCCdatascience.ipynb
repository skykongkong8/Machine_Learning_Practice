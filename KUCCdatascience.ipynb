{
 "cells": [
  {
   "cell_type": "code",
   "execution_count": 1,
   "metadata": {},
   "outputs": [],
   "source": [
    "import requests\n",
    "from bs4 import BeautifulSoup"
   ]
  },
  {
   "cell_type": "code",
   "execution_count": 13,
   "metadata": {},
   "outputs": [],
   "source": [
    "\n",
    "raw = requests.get(\"https://movie.naver.com/movie/running/current.nhn\")\n",
    "#raw데이터를 주소로 받아오고\n",
    "\n",
    "headers = BeautifulSoup(raw.text, 'html.parser')\n",
    "# 받은 데이터를 파싱한다 뷰티풀수프로\n",
    "movie = html.select(\"dl.lst_dsc\")\n",
    "#컨테이너 셀럭터를 조사해서 컨테이너 안의 반복문을 통해:\n",
    "\n",
    "for m in movie:\n",
    "    title = m.select_one(\"dt.tit a\") #class는 . 으로 쓰고 자손은 그냥 띄어쓰기로 좀 더 구체적으로 지칭을 해주면 더 좋다\n",
    "    score = m.select_one(\"div.star_t1 span.num\") #ctrl F로 갯수 파악해보기\n",
    "    \n",
    "    info = m.select(\"dl.info_txt1 dd\")\n",
    "    genre = info[0].select_one(\"a\")\n",
    "    directors = info[1].select_one(\"a\")\n",
    "    actors = info[2].select_one(\"a\")\n",
    "    \n",
    "    if float(score.text) < 8.5:\n",
    "        continue #이런 조건문을 달아서 검열해서 출력할 수 있다!\n",
    "        #continue는 자신이 속해있는 반복문을 다음 반복으로 넘깁니다.(약간 뭐랄까 pass나 break인데 다 꺠는게 아니라  그냥 다음순번으로 하는거) 주로 조건문 if와 사용된다.\n",
    "    \n",
    "    genre_all = m.select_one(\"dl.info_txt1 dd:nth-of-type(1) span.link_txt\")\n",
    "    if \"액션\" not in genre_all.text:\n",
    "        continue #이런식으로의 조건문도 가능\n",
    "    \n",
    "    \n",
    "    #select가 리스트임을 활용, 같은 선택자인 것들을 좀더 효율적으로 저장할 수 도 있다.\n",
    "    \n",
    "    #다른 방법: dd:nth-of-type(n)\n",
    "#     genre = m.select(\"dl.info_txt1 dd:nth-of-type(1) a\")\n",
    "#     directors = m.select(\"dl.info_txt1 dd:nth-of-type(2) a\")\n",
    "#     actors = m.select(\"dl.info_txt1 dd:nth-of-type(3) a\")\n",
    "    \n",
    "    print(\"=\"*50)\n",
    "    print(\"제목:\",title.text)\n",
    "    \n",
    "    print(\"=\"*50)\n",
    "    print(\"평점\",score.text)\n",
    "    \n",
    "    print(\"=\"*50)\n",
    "    print(\"장르\")\n",
    "    for g in genre:\n",
    "        print(g.text)\n",
    "    \n",
    "    print(\"=\"*50)\n",
    "    print(\"감독:\")\n",
    "    for d in directors: #data 타입이 리스트일 경우 꺼내서\n",
    "        print(d.text)"
   ]
  },
  {
   "cell_type": "code",
   "execution_count": null,
   "metadata": {},
   "outputs": [],
   "source": []
  }
 ],
 "metadata": {
  "kernelspec": {
   "display_name": "Python 3",
   "language": "python",
   "name": "python3"
  },
  "language_info": {
   "codemirror_mode": {
    "name": "ipython",
    "version": 3
   },
   "file_extension": ".py",
   "mimetype": "text/x-python",
   "name": "python",
   "nbconvert_exporter": "python",
   "pygments_lexer": "ipython3",
   "version": "3.8.3"
  }
 },
 "nbformat": 4,
 "nbformat_minor": 4
}
