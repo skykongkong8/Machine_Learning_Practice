{
 "cells": [
  {
   "cell_type": "code",
   "execution_count": 28,
   "metadata": {},
   "outputs": [
    {
     "name": "stdout",
     "output_type": "stream",
     "text": [
      "[[0.35 0.01]\n",
      " [0.17 0.06]\n",
      " [0.28 0.35]\n",
      " [0.59 0.78]\n",
      " [0.62 0.16]] [[0.89 0.73 0.5  0.64 0.51 0.17]\n",
      " [0.64 0.99 0.77 0.18 0.12 0.93]]\n"
     ]
    }
   ],
   "source": [
    "\"\"\"Step#1 행렬 인수분해 초기화하기 구현\"\"\"\n",
    "import numpy as np\n",
    "\n",
    "#처음 시작할 때는 임의의 값으로 시작하여 나중에 gradient descent로 보강하는 것이므로 우선:\n",
    "def initialize(R, num_features):\n",
    "    num_users, num_items = R.shape\n",
    "    Theta = np.random.rand(num_users, num_features)\n",
    "    X= np.random.rand(num_features, num_items)\n",
    "    return Theta, X\n",
    "\n",
    "#raw data가 아래와 같이 있다고 가정하자\n",
    "R = np.array([\n",
    "    [3, 4, 1, np.nan, 1, 2],\n",
    "    [4, 4, 3, np.nan, 5, 3],\n",
    "    [2, 3, np.nan, 1, 3, 4],\n",
    "    [1, 3, 2, 4, 2, 2],\n",
    "    [1, 2, np.nan, 2, 2, 4],\n",
    "    ])\n",
    "\n",
    "Theta, X = initialize(R, 2)\n",
    "print(Theta, X)\n"
   ]
  },
  {
   "cell_type": "code",
   "execution_count": 38,
   "metadata": {},
   "outputs": [
    {
     "data": {
      "text/plain": [
       "(array([[-0.35,  1.56,  0.31, -0.21, -0.26],\n",
       "        [ 0.92,  0.21,  0.36,  0.56,  0.99],\n",
       "        [ 0.48,  0.55, -0.19,  0.06,  1.71],\n",
       "        [-0.64,  1.03,  0.35, -0.32,  0.13],\n",
       "        [-0.39, -0.68,  0.44,  0.05,  1.05],\n",
       "        [ 0.07, -0.64,  0.92,  1.23, -0.58],\n",
       "        [ 0.33,  0.93, -1.21,  2.09,  0.27],\n",
       "        [ 0.79, -0.48,  1.12,  0.05,  0.46],\n",
       "        [ 1.06, -0.68, -0.28,  0.18, -1.12],\n",
       "        [ 0.39,  0.63,  0.14,  0.98,  0.1 ],\n",
       "        [ 1.47,  0.62, -0.91, -0.29, -0.35],\n",
       "        [-1.56,  0.77,  0.83,  1.1 ,  0.13],\n",
       "        [-0.89,  0.47,  0.47, -0.25,  0.81],\n",
       "        [ 0.86, -0.13, -1.01,  0.2 ,  0.76],\n",
       "        [-0.53, -1.14, -0.47,  0.08, -0.72],\n",
       "        [-0.27, -0.07,  0.41,  0.49,  1.5 ],\n",
       "        [ 0.17, -0.01,  0.07, -1.66,  0.27],\n",
       "        [ 1.32,  0.88,  0.83,  0.72, -1.09],\n",
       "        [-0.17, -1.68,  1.86, -0.16, -0.26],\n",
       "        [-0.88, -0.53, -1.33,  0.14,  0.19]]),\n",
       " array([[ 0.12,  0.48, -2.18, -0.67, -1.05,  0.41,  0.03, -0.37, -0.86,\n",
       "          0.44, -0.71,  1.26, -0.55,  0.17,  0.74,  0.94, -0.07,  1.98,\n",
       "          1.12,  0.68],\n",
       "        [-0.61, -0.4 , -0.12,  0.11, -0.22,  0.1 ,  0.71, -0.36,  0.97,\n",
       "          0.95,  0.62, -0.72,  0.26, -1.56,  0.18, -0.28, -0.29,  1.7 ,\n",
       "          0.02, -0.87],\n",
       "        [ 0.12,  1.59,  0.25,  1.02, -1.  ,  0.88, -0.27,  0.39,  0.33,\n",
       "          0.48, -1.17, -0.05, -1.69,  0.65, -0.12, -1.09, -0.89, -0.35,\n",
       "          0.65,  0.47],\n",
       "        [ 0.33, -0.84, -0.73, -0.55,  0.11,  1.18, -1.  ,  0.15,  0.29,\n",
       "         -0.21,  0.76,  0.46, -0.59, -0.5 , -0.92, -0.21,  0.86,  0.45,\n",
       "          1.77, -0.02],\n",
       "        [-0.75, -0.25, -0.72,  1.1 ,  0.94,  0.54,  0.55, -1.34, -1.28,\n",
       "          1.08,  0.79,  0.63, -0.68,  0.21,  1.02, -0.46, -0.06, -0.81,\n",
       "          0.93, -0.72]]))"
      ]
     },
     "execution_count": 38,
     "metadata": {},
     "output_type": "execute_result"
    },
    {
     "data": {
      "image/png": "[encoded data removed]",
      "text/plain": [
       "<Figure size 432x288 with 1 Axes>"
      ]
     },
     "metadata": {
      "needs_background": "light"
     },
     "output_type": "display_data"
    }
   ],
   "source": [
    "\"\"\"Step#2 행렬인수분해 경사하강법 구현\"\"\"\n",
    "import numpy as np\n",
    "import pandas as pd\n",
    "import matplotlib.pyplot as plt\n",
    "\n",
    "np.random.seed(5)#--일정한 값을 고정해서 내고싶다면 이 값을 설정하자\n",
    "data_path = 'C:/Users/공성식/Desktop/WORKSTATION/Python Workplace/codeit/intermediate_machine_learning/matrix_ratings.csv'\n",
    "\n",
    "#표기 데이터 소수점 설정\n",
    "np.set_printoptions(precision=2)\n",
    "np.set_printoptions(suppress=True)\n",
    "\n",
    "#Theta 와 X값으로 예측값을 계산하는 함수 predict\n",
    "#이 경우 이미 Theta.T 처럼 data를 형성시켜 놓았으니 그냥 바로 행렬곱연산하면 된다.\n",
    "def predict(Theta, X):\n",
    "    return Theta@X\n",
    "\n",
    "#mse 손실함수 cost\n",
    "def cost(prediction, R):\n",
    "    return np.nansum((prediction- R)**2)\n",
    "\n",
    "#initialize함수는 위에서 작성했으니 다시쓰지 않는다.\n",
    "\n",
    "#경사하강 함수- 몇번 경사하강할 것인지 정하는 파라미터 iteration을 받는다.\n",
    "def gradient_descent_matrix(R, Theta, X, alpha, iteration, lambda_):\n",
    "    num_user, num_items = R.shape\n",
    "    num_features = len(X)\n",
    "    costs = []\n",
    "\n",
    "    for _ in range(iteration):\n",
    "        prediction = predict(Theta, X)\n",
    "        error = prediction - R\n",
    "        costs.append(cost(prediction,R))\n",
    "\n",
    "        for i in range(num_user):\n",
    "            for j in range(num_items):\n",
    "                if not np.isnan(R[i][j]):#nan값이 아닐 경우에만 계산한다는 조건\n",
    "                    for k in range(num_features):\n",
    "                        Theta[i][k] -= alpha*(np.nansum(error[i,:]*X[k,:])+lambda_*Theta[i][k])\n",
    "                        X[k][j] -= alpha*(np.nansum(error[:,j]*Theta[:,k])+lambda_*X[k][j])\n",
    "    return Theta, X, costs, error\n",
    "\n",
    "ratings_df = pd.read_csv(data_path, index_col = 'user_id')\n",
    "\n",
    "#mean normalization을 적용\n",
    "for row in ratings_df.values:\n",
    "    row-=np.nanmean(row)\n",
    "    \n",
    "R=ratings_df.values\n",
    "\n",
    "Theta, X = initialize(R, 5)\n",
    "Theta, X, costs, error = gradient_descent_matrix(R,Theta,X,0.001,200,0.01)\n",
    "plt.plot(costs)\n",
    "Theta, X"
   ]
  },
  {
   "cell_type": "code",
   "execution_count": null,
   "metadata": {},
   "outputs": [],
   "source": [
    "#코드 작성시 팁: 시그마연산을 np행렬연산으로 구현하면서, 어떤 변수에 대해 시그마가 진행되는지 보면 헷갈리거나 실수할 가능성이 적어진다."
   ]
  }
 ],
 "metadata": {
  "kernelspec": {
   "display_name": "Python 3",
   "language": "python",
   "name": "python3"
  },
  "language_info": {
   "codemirror_mode": {
    "name": "ipython",
    "version": 3
   },
   "file_extension": ".py",
   "mimetype": "text/x-python",
   "name": "python",
   "nbconvert_exporter": "python",
   "pygments_lexer": "ipython3",
   "version": "3.8.3"
  }
 },
 "nbformat": 4,
 "nbformat_minor": 4
}
