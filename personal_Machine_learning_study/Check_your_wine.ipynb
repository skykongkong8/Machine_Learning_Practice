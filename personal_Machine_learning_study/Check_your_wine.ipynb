{
 "cells": [
  {
   "cell_type": "code",
   "execution_count": 1,
   "metadata": {},
   "outputs": [],
   "source": [
    "import pandas as pd\n",
    "import numpy as np\n",
    "import matplotlib.pyplot as plt\n",
    "import seaborn as sns"
   ]
  },
  {
   "cell_type": "code",
   "execution_count": 2,
   "metadata": {},
   "outputs": [
    {
     "data": {
      "text/html": [
       "<div>\n",
       "<style scoped>\n",
       "    .dataframe tbody tr th:only-of-type {\n",
       "        vertical-align: middle;\n",
       "    }\n",
       "\n",
       "    .dataframe tbody tr th {\n",
       "        vertical-align: top;\n",
       "    }\n",
       "\n",
       "    .dataframe thead th {\n",
       "        text-align: right;\n",
       "    }\n",
       "</style>\n",
       "<table border=\"1\" class=\"dataframe\">\n",
       "  <thead>\n",
       "    <tr style=\"text-align: right;\">\n",
       "      <th></th>\n",
       "      <th>grape variety</th>\n",
       "      <th>color</th>\n",
       "      <th>oak</th>\n",
       "      <th>vivino</th>\n",
       "      <th>red fruit</th>\n",
       "      <th>black fruit</th>\n",
       "      <th>earthy</th>\n",
       "      <th>spicy</th>\n",
       "      <th>citrus</th>\n",
       "      <th>tree fruit</th>\n",
       "      <th>tropical fruit</th>\n",
       "      <th>evaluation</th>\n",
       "    </tr>\n",
       "  </thead>\n",
       "  <tbody>\n",
       "    <tr>\n",
       "      <th>0</th>\n",
       "      <td>tempranillo</td>\n",
       "      <td>0</td>\n",
       "      <td>1</td>\n",
       "      <td>3.5</td>\n",
       "      <td>1</td>\n",
       "      <td>1</td>\n",
       "      <td>0</td>\n",
       "      <td>0</td>\n",
       "      <td>0</td>\n",
       "      <td>0</td>\n",
       "      <td>0</td>\n",
       "      <td>3.0</td>\n",
       "    </tr>\n",
       "    <tr>\n",
       "      <th>1</th>\n",
       "      <td>chardonnay</td>\n",
       "      <td>1</td>\n",
       "      <td>0</td>\n",
       "      <td>2.9</td>\n",
       "      <td>0</td>\n",
       "      <td>0</td>\n",
       "      <td>1</td>\n",
       "      <td>0</td>\n",
       "      <td>1</td>\n",
       "      <td>0</td>\n",
       "      <td>1</td>\n",
       "      <td>3.0</td>\n",
       "    </tr>\n",
       "    <tr>\n",
       "      <th>2</th>\n",
       "      <td>else</td>\n",
       "      <td>1</td>\n",
       "      <td>0</td>\n",
       "      <td>3.3</td>\n",
       "      <td>0</td>\n",
       "      <td>0</td>\n",
       "      <td>0</td>\n",
       "      <td>0</td>\n",
       "      <td>1</td>\n",
       "      <td>0</td>\n",
       "      <td>0</td>\n",
       "      <td>2.5</td>\n",
       "    </tr>\n",
       "    <tr>\n",
       "      <th>3</th>\n",
       "      <td>cab</td>\n",
       "      <td>0</td>\n",
       "      <td>1</td>\n",
       "      <td>3.6</td>\n",
       "      <td>1</td>\n",
       "      <td>1</td>\n",
       "      <td>0</td>\n",
       "      <td>0</td>\n",
       "      <td>0</td>\n",
       "      <td>0</td>\n",
       "      <td>0</td>\n",
       "      <td>3.8</td>\n",
       "    </tr>\n",
       "    <tr>\n",
       "      <th>4</th>\n",
       "      <td>else</td>\n",
       "      <td>1</td>\n",
       "      <td>0</td>\n",
       "      <td>3.7</td>\n",
       "      <td>0</td>\n",
       "      <td>0</td>\n",
       "      <td>1</td>\n",
       "      <td>0</td>\n",
       "      <td>1</td>\n",
       "      <td>1</td>\n",
       "      <td>0</td>\n",
       "      <td>4.2</td>\n",
       "    </tr>\n",
       "  </tbody>\n",
       "</table>\n",
       "</div>"
      ],
      "text/plain": [
       "  grape variety  color  oak  vivino  red fruit  black fruit  earthy  spicy  \\\n",
       "0   tempranillo      0    1     3.5          1            1       0      0   \n",
       "1    chardonnay      1    0     2.9          0            0       1      0   \n",
       "2          else      1    0     3.3          0            0       0      0   \n",
       "3           cab      0    1     3.6          1            1       0      0   \n",
       "4          else      1    0     3.7          0            0       1      0   \n",
       "\n",
       "   citrus  tree fruit  tropical fruit  evaluation  \n",
       "0       0           0               0         3.0  \n",
       "1       1           0               1         3.0  \n",
       "2       1           0               0         2.5  \n",
       "3       0           0               0         3.8  \n",
       "4       1           1               0         4.2  "
      ]
     },
     "execution_count": 2,
     "metadata": {},
     "output_type": "execute_result"
    }
   ],
   "source": [
    "grape_variety = {\n",
    "    'cab' : 1,\n",
    "    'chardonnay' : 2,\n",
    "    'pino noir' : 3,\n",
    "    'pino grigio' : 4,\n",
    "    'shiraz' : 5,\n",
    "    'syrah' : 5,\n",
    "    'malbec' : 6,\n",
    "    'carmenere' : 7,\n",
    "    'merlot' : 8,\n",
    "    'tempranillo' : 9,\n",
    "    'else' : 0\n",
    "}\n",
    "\n",
    "#데이터 불러오기\n",
    "data = pd.read_csv('./sungsik_wine_data.csv')\n",
    "data.head()"
   ]
  },
  {
   "cell_type": "code",
   "execution_count": 3,
   "metadata": {},
   "outputs": [
    {
     "data": {
      "image/png": "[encoded data removed]",
      "text/plain": [
       "<Figure size 432x288 with 1 Axes>"
      ]
     },
     "metadata": {
      "needs_background": "light"
     },
     "output_type": "display_data"
    }
   ],
   "source": [
    "# 상관관계 분석\n",
    "plot1 = plt.plot([float(i) for i in data.loc[:,'color']], [float(j) for j in data.loc[:,'evaluation']], 'bo')\n",
    "plt.plot([float(i) for i in data.loc[:,'vivino']], [float(j) for j in data.loc[:,'evaluation']], 'gx')\n",
    "plt.show()"
   ]
  },
  {
   "cell_type": "code",
   "execution_count": 4,
   "metadata": {},
   "outputs": [
    {
     "data": {
      "text/plain": [
       "<seaborn.axisgrid.FacetGrid at 0x22054a4ea60>"
      ]
     },
     "execution_count": 4,
     "metadata": {},
     "output_type": "execute_result"
    },
    {
     "data": {
      "image/png": "[encoded data removed]",
      "text/plain": [
       "<Figure size 360x360 with 1 Axes>"
      ]
     },
     "metadata": {
      "needs_background": "light"
     },
     "output_type": "display_data"
    }
   ],
   "source": [
    "# oak 향과 취향의 중간값 검사\n",
    "sns.catplot(data = data, x = 'oak', y='evaluation', kind = 'box')"
   ]
  },
  {
   "cell_type": "code",
   "execution_count": 5,
   "metadata": {},
   "outputs": [
    {
     "name": "stdout",
     "output_type": "stream",
     "text": [
      "5\n"
     ]
    },
    {
     "data": {
      "text/html": [
       "<div>\n",
       "<style scoped>\n",
       "    .dataframe tbody tr th:only-of-type {\n",
       "        vertical-align: middle;\n",
       "    }\n",
       "\n",
       "    .dataframe tbody tr th {\n",
       "        vertical-align: top;\n",
       "    }\n",
       "\n",
       "    .dataframe thead th {\n",
       "        text-align: right;\n",
       "    }\n",
       "</style>\n",
       "<table border=\"1\" class=\"dataframe\">\n",
       "  <thead>\n",
       "    <tr style=\"text-align: right;\">\n",
       "      <th></th>\n",
       "      <th>grape variety</th>\n",
       "      <th>color</th>\n",
       "      <th>oak</th>\n",
       "      <th>vivino</th>\n",
       "      <th>red fruit</th>\n",
       "      <th>black fruit</th>\n",
       "      <th>earthy</th>\n",
       "      <th>spicy</th>\n",
       "      <th>citrus</th>\n",
       "      <th>tree fruit</th>\n",
       "      <th>tropical fruit</th>\n",
       "      <th>evaluation</th>\n",
       "    </tr>\n",
       "  </thead>\n",
       "  <tbody>\n",
       "    <tr>\n",
       "      <th>0</th>\n",
       "      <td>9</td>\n",
       "      <td>0</td>\n",
       "      <td>1</td>\n",
       "      <td>17.5</td>\n",
       "      <td>1</td>\n",
       "      <td>1</td>\n",
       "      <td>0</td>\n",
       "      <td>0</td>\n",
       "      <td>0</td>\n",
       "      <td>0</td>\n",
       "      <td>0</td>\n",
       "      <td>3.0</td>\n",
       "    </tr>\n",
       "    <tr>\n",
       "      <th>1</th>\n",
       "      <td>2</td>\n",
       "      <td>1</td>\n",
       "      <td>0</td>\n",
       "      <td>14.5</td>\n",
       "      <td>0</td>\n",
       "      <td>0</td>\n",
       "      <td>1</td>\n",
       "      <td>0</td>\n",
       "      <td>1</td>\n",
       "      <td>0</td>\n",
       "      <td>1</td>\n",
       "      <td>3.0</td>\n",
       "    </tr>\n",
       "    <tr>\n",
       "      <th>2</th>\n",
       "      <td>0</td>\n",
       "      <td>1</td>\n",
       "      <td>0</td>\n",
       "      <td>16.5</td>\n",
       "      <td>0</td>\n",
       "      <td>0</td>\n",
       "      <td>0</td>\n",
       "      <td>0</td>\n",
       "      <td>1</td>\n",
       "      <td>0</td>\n",
       "      <td>0</td>\n",
       "      <td>2.5</td>\n",
       "    </tr>\n",
       "    <tr>\n",
       "      <th>3</th>\n",
       "      <td>1</td>\n",
       "      <td>0</td>\n",
       "      <td>1</td>\n",
       "      <td>18.0</td>\n",
       "      <td>1</td>\n",
       "      <td>1</td>\n",
       "      <td>0</td>\n",
       "      <td>0</td>\n",
       "      <td>0</td>\n",
       "      <td>0</td>\n",
       "      <td>0</td>\n",
       "      <td>3.8</td>\n",
       "    </tr>\n",
       "    <tr>\n",
       "      <th>4</th>\n",
       "      <td>0</td>\n",
       "      <td>1</td>\n",
       "      <td>0</td>\n",
       "      <td>18.5</td>\n",
       "      <td>0</td>\n",
       "      <td>0</td>\n",
       "      <td>1</td>\n",
       "      <td>0</td>\n",
       "      <td>1</td>\n",
       "      <td>1</td>\n",
       "      <td>0</td>\n",
       "      <td>4.2</td>\n",
       "    </tr>\n",
       "  </tbody>\n",
       "</table>\n",
       "</div>"
      ],
      "text/plain": [
       "  grape variety  color  oak  vivino  red fruit  black fruit  earthy  spicy  \\\n",
       "0             9      0    1    17.5          1            1       0      0   \n",
       "1             2      1    0    14.5          0            0       1      0   \n",
       "2             0      1    0    16.5          0            0       0      0   \n",
       "3             1      0    1    18.0          1            1       0      0   \n",
       "4             0      1    0    18.5          0            0       1      0   \n",
       "\n",
       "   citrus  tree fruit  tropical fruit  evaluation  \n",
       "0       0           0               0         3.0  \n",
       "1       1           0               1         3.0  \n",
       "2       1           0               0         2.5  \n",
       "3       0           0               0         3.8  \n",
       "4       1           1               0         4.2  "
      ]
     },
     "execution_count": 5,
     "metadata": {},
     "output_type": "execute_result"
    }
   ],
   "source": [
    "#Feature Engineering\n",
    "\n",
    "#1 grape variety를 수치화할 수 있는 숫자로 바꾸기\n",
    "for variety in grape_variety.keys():\n",
    "    data.loc[data.loc[:,'grape variety'] == variety, 'grape variety'] = grape_variety[variety]\n",
    "\n",
    "#2 정답 부분 - evaluation을 제거하기 (추후에 진행할 것이므로 여기서는 생략하였음)\n",
    "# try:\n",
    "#     data.drop('evaluation', axis = 1, inplace = True)\n",
    "# except:\n",
    "#     pass\n",
    "    \n",
    "#3 비비노 점수 변화 스케일이 너무 작으므로 더 키운다.\n",
    "VIVINO_PORTION = float(input())\n",
    "data.loc[:, 'vivino'] = data.loc[:, 'vivino']*VIVINO_PORTION\n",
    "data.head()"
   ]
  },
  {
   "cell_type": "code",
   "execution_count": 6,
   "metadata": {},
   "outputs": [],
   "source": [
    "#1 다중 다항 회귀 사용\n",
    "from sklearn.model_selection import train_test_split\n",
    "from sklearn.preprocessing import PolynomialFeatures\n",
    "from sklearn.linear_model import LinearRegression\n",
    "from sklearn.metrics import mean_squared_error\n",
    "\n",
    "#2 정규화하는 Lasso모델 : 과적합될만큼 큰 데이터가 아니므로 하지 않는다.\n",
    "from sklearn.linear_model import Lasso"
   ]
  },
  {
   "cell_type": "code",
   "execution_count": 7,
   "metadata": {},
   "outputs": [
    {
     "data": {
      "text/plain": [
       "(5.695698995212146e-27, 316.646392816304)"
      ]
     },
     "execution_count": 7,
     "metadata": {},
     "output_type": "execute_result"
    }
   ],
   "source": [
    "#DataFrame일때의 방식 + 평가\n",
    "\n",
    "X = data.drop(['evaluation'], axis =1)\n",
    "polynomial_transformer = PolynomialFeatures(3)\n",
    "polynomial_data = polynomial_transformer.fit_transform(X.values)\n",
    "polynomial_feature_names = polynomial_transformer.get_feature_names(X.columns)\n",
    "\n",
    "X = pd.DataFrame(polynomial_data, columns = polynomial_feature_names)\n",
    "y = data['evaluation']\n",
    "\n",
    "X_train, X_test, y_train, y_test = train_test_split(X,y,test_size = 0.3) #random_state = 5?\n",
    "test_model = LinearRegression()\n",
    "\n",
    "test_model.fit(X_train, y_train)\n",
    "\n",
    "y_train_predict = test_model.predict(X_train)\n",
    "y_test_predict = test_model.predict(X_test)\n",
    "\n",
    "mse1 = mean_squared_error(y_train, y_train_predict)\n",
    "mse2 = mean_squared_error(y_test, y_test_predict)\n",
    "\n",
    "mse1, mse2"
   ]
  },
  {
   "cell_type": "code",
   "execution_count": 13,
   "metadata": {
    "scrolled": true
   },
   "outputs": [
    {
     "name": "stdout",
     "output_type": "stream",
     "text": [
      "포도 품종을 입력하세요 : cab\n",
      "색깔 정보를 입력하시오 [레드와인 : 0, 화이트와인 : 1] : 0\n",
      "오크향이 있습니까? [예 : 1, 아니오: 0] : 0\n",
      "비비노 평점을 입력하세요 : 5\n",
      "붉은 과일 향이 있습니까? [예 : 1, 아니오 : 0] : 1\n",
      "검은 과일 향이 있습니까? [예 : 1, 아니오 : 0] : 1\n",
      "흙, 버섯, 가죽 향이 있습니까? [예 : 1, 아니오 : 0] : 0\n",
      "스파이시한 특성이 있습니까? [예 : 1, 아니오 : 0] : 0\n",
      "시트러스 향이 있습니까? [예 : 1, 아니오 : 0] : 0\n",
      "나무열매 향이 있습니까? [예 : 1, 아니오 : 0] : 0\n",
      "열대과일 향이 있습니까? [예 : 1, 아니오 : 0] : 0\n",
      "당신이 전혀 좋아하지 않는 스타일의 와인입니다. 예상 평점 : [-30.71569027]\n",
      "방금 예측한 와인의 평점을 매기시겠습니까? : [예 : 1, 아니오 : 0] : 1\n",
      "당신의 평가를 적어주세요. 학습한 뒤 더 나은 기능을 제공합니다! : 5.0\n"
     ]
    }
   ],
   "source": [
    "# 실제 모델 사용 코드\n",
    "def variety_validation(variety):\n",
    "    return variety in grape_variety\n",
    "\n",
    "X_for_column_names = data.drop(['evaluation'], axis =1)\n",
    "column_names = X_for_column_names.columns\n",
    "\n",
    "model = LinearRegression()\n",
    "model.fit(X,y)\n",
    "\n",
    "Grape_Variety = input('포도 품종을 입력하세요 : ')\n",
    "Color = int(input('색깔 정보를 입력하시오 [레드와인 : 0, 화이트와인 : 1] : '))\n",
    "Oak = int(input('오크향이 있습니까? [예 : 1, 아니오: 0] : '))\n",
    "Vivino = float(input('비비노 평점을 입력하세요 : '))\n",
    "RedFruit = int(input('붉은 과일 향이 있습니까? [예 : 1, 아니오 : 0] : '))\n",
    "BlackFruit = int(input('검은 과일 향이 있습니까? [예 : 1, 아니오 : 0] : '))\n",
    "Earthy = int(input('흙, 버섯, 가죽 향이 있습니까? [예 : 1, 아니오 : 0] : '))\n",
    "Spicy = int(input('스파이시한 특성이 있습니까? [예 : 1, 아니오 : 0] : '))\n",
    "Citrus = int(input('시트러스 향이 있습니까? [예 : 1, 아니오 : 0] : '))\n",
    "TreeFruit = int(input('나무열매 향이 있습니까? [예 : 1, 아니오 : 0] : '))\n",
    "TropicalFruit = int(input('열대과일 향이 있습니까? [예 : 1, 아니오 : 0] : '))\n",
    "\n",
    "df_t = pd.DataFrame([grape_variety[Grape_Variety], Color, Oak, Vivino, RedFruit,\\\n",
    "                                         BlackFruit, Earthy, Spicy, Citrus, TreeFruit, TropicalFruit], column_names)\n",
    "\n",
    "\n",
    "df=df_t.transpose()\n",
    "polynomial_transformer = PolynomialFeatures(3)\n",
    "polynomial_data = polynomial_transformer.fit_transform(df.values)\n",
    "polynomial_feature_names = polynomial_transformer.get_feature_names(df.columns)\n",
    "\n",
    "true_df = pd.DataFrame(polynomial_data, columns = polynomial_feature_names)\n",
    "\n",
    "prediction = model.predict(true_df)\n",
    "if prediction >=4.0:\n",
    "    print(f'당신이 정말 좋아하는 스타일의 와인입니다! 예상 평점 : {prediction}')\n",
    "elif 4.0>prediction >= 3.7:\n",
    "    print(f'당신의 취향에 맞는 와인입니다. 예상 평점 : {prediction}')\n",
    "elif 3.7> prediction > 3.4:\n",
    "    print(f'당신의 취향과는 맞지 않을 수도 있겠군요. 하지만 때때로 마실만 할겁니다. 예상 평점 : {prediction}')\n",
    "elif 3.4>=prediction>3.0:\n",
    "    print(f'당신이 별로 좋아하지 않을 와인 같습니다. 예상 평점 : {prediction}')\n",
    "else:\n",
    "    print(f'당신이 전혀 좋아하지 않는 스타일의 와인입니다. 예상 평점 : {prediction}')\n",
    "    \n",
    "wanna_record = int(input('방금 예측한 와인의 평점을 매기시겠습니까? : [예 : 1, 아니오 : 0] : '))\n",
    "if wanna_record ==1:\n",
    "    with open('C:/Users/공성식/Desktop/WORKSTATION/Workstation_data/sungsik_wine_data.csv','a') as f:\n",
    "        your_score = float(input('당신의 평가를 적어주세요. 학습한 뒤 더 나은 기능을 제공합니다! : '))\n",
    "        f.write(f'\\n{Grape_Variety},{Color},{Oak},{Vivino},{RedFruit},{BlackFruit},{Earthy},{Spicy},{Citrus},{TreeFruit},{TropicalFruit},{your_score}\\n')\n",
    "else:\n",
    "    print('감사합니다.')"
   ]
  },
  {
   "cell_type": "code",
   "execution_count": 12,
   "metadata": {},
   "outputs": [
    {
     "data": {
      "text/plain": [
       "True"
      ]
     },
     "execution_count": 12,
     "metadata": {},
     "output_type": "execute_result"
    }
   ],
   "source": []
  },
  {
   "cell_type": "code",
   "execution_count": null,
   "metadata": {},
   "outputs": [],
   "source": []
  }
 ],
 "metadata": {
  "kernelspec": {
   "display_name": "Python 3",
   "language": "python",
   "name": "python3"
  },
  "language_info": {
   "codemirror_mode": {
    "name": "ipython",
    "version": 3
   },
   "file_extension": ".py",
   "mimetype": "text/x-python",
   "name": "python",
   "nbconvert_exporter": "python",
   "pygments_lexer": "ipython3",
   "version": "3.8.3"
  }
 },
 "nbformat": 4,
 "nbformat_minor": 4
}
