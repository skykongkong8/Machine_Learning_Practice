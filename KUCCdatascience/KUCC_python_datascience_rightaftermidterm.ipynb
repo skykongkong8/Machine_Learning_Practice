{
 "cells": [
  {
   "cell_type": "code",
   "execution_count": 2,
   "metadata": {},
   "outputs": [],
   "source": [
    "import requests\n",
    "from bs4 import BeautifulSoup"
   ]
  },
  {
   "cell_type": "code",
   "execution_count": 6,
   "metadata": {},
   "outputs": [
    {
     "name": "stdout",
     "output_type": "stream",
     "text": [
      "<Response [200]>\n"
     ]
    }
   ],
   "source": [
    "raw = requests.get(\"https://tv.naver.com/r\")\n",
    "print(raw)"
   ]
  },
  {
   "cell_type": "code",
   "execution_count": 9,
   "metadata": {},
   "outputs": [],
   "source": [
    "html = BeautifulSoup(raw.text, \"html.parser\")\n",
    "#파싱"
   ]
  },
  {
   "cell_type": "code",
   "execution_count": 10,
   "metadata": {},
   "outputs": [],
   "source": [
    "clips=html.select(\"div.inner\")\n",
    "#select는 해당하는 데이터를 리스트 형식으로 데이터에 저장함\n",
    "#이때 select에 넣어주는 것이 조사한 "
   ]
  },
  {
   "cell_type": "code",
   "execution_count": 11,
   "metadata": {},
   "outputs": [],
   "source": [
    "title = clips[0].select_one(\"dt.title\")\n",
    "#title(임의 변수)--불러온 데이터 리스트의 첫 번째 인덱스 불러오기\n",
    "#select_one 은 그중에 하나만 가져온다 이때 조사한 태그를 받음"
   ]
  },
  {
   "cell_type": "code",
   "execution_count": 17,
   "metadata": {},
   "outputs": [
    {
     "name": "stdout",
     "output_type": "stream",
     "text": [
      "손흥민 대 칼버트 르윈 1편! 득점왕 경쟁자 칼버트 르윈은 손흥민과 뭐가 다를까?\n"
     ]
    }
   ],
   "source": [
    "print(title.text.strip())\n",
    "# .text메소드로 텍스화 된 데이터를 가져올 수 있음"
   ]
  },
  {
   "cell_type": "code",
   "execution_count": 16,
   "metadata": {},
   "outputs": [
    {
     "name": "stdout",
     "output_type": "stream",
     "text": [
      "손흥민 대 칼버트 르윈 1편! 득점왕 경쟁자 칼버트 르윈은 손흥민과 뭐가 다를까?\n"
     ]
    }
   ],
   "source": [
    "#반복문을 활용한 더 많은 데이터\n",
    "for clip in clips:\n",
    "    title = clip.select_one(\"dt.title\")\n",
    "print(title.text.strip())"
   ]
  },
  {
   "cell_type": "code",
   "execution_count": 18,
   "metadata": {},
   "outputs": [
    {
     "data": {
      "text/plain": [
       "'___복습___'"
      ]
     },
     "execution_count": 18,
     "metadata": {},
     "output_type": "execute_result"
    }
   ],
   "source": [
    "\"\"\"___복습___\"\"\""
   ]
  },
  {
   "cell_type": "code",
   "execution_count": 21,
   "metadata": {},
   "outputs": [],
   "source": [
    "import openpyxl"
   ]
  },
  {
   "cell_type": "code",
   "execution_count": 22,
   "metadata": {},
   "outputs": [],
   "source": [
    "wb = openpyxl.Workbook()\n",
    "# wb.save('test.xlsx')\n",
    "#엑셀 파일 생성하기"
   ]
  },
  {
   "cell_type": "code",
   "execution_count": 25,
   "metadata": {},
   "outputs": [],
   "source": [
    "sheet = wb.active\n",
    "sheet['A1']='hello world!'\n",
    "#특정 엑셀 셀에 데이터 저장하기\n",
    "sheet.cell(row=3, column = 3).value = \"BYE!\"\n",
    "#pandas처럼 저장하기"
   ]
  },
  {
   "cell_type": "code",
   "execution_count": 27,
   "metadata": {},
   "outputs": [],
   "source": [
    "subject = [\"python\", \"Java\",\"HTML\",\"JavaScript\"]\n",
    "sheet.append(subject)\n",
    "# wb.save('test.xlsx')"
   ]
  },
  {
   "cell_type": "code",
   "execution_count": 28,
   "metadata": {},
   "outputs": [],
   "source": [
    "sheet1 = wb.active\n",
    "sheet1.title = \"1st sheet\"\n",
    "\n",
    "sheet2 = wb.create_sheet(\"2nd Sheet\")#이름을 지정하면서 생성하기\n",
    "\n",
    "for i in range(1,10):\n",
    "    sheet1.cell(row=i, column = 1).value = i\n",
    "    sheet2.cell(row=1, column=i).value = i\n",
    "# wb.save('test.xlsx')"
   ]
  },
  {
   "cell_type": "code",
   "execution_count": 30,
   "metadata": {},
   "outputs": [],
   "source": [
    "# wb = openpyxl.Workbook()\n",
    "# sheet = wb.active\n",
    "# sheet.append([\"제목\", \"채널\", \"재생 수\", \"좋아요 수\"])\n",
    "\n",
    "# raw = requests.get(\"http://tv.naver.com/r\")\n",
    "# html = BeautifulSoup(raw.text, \"html.parser\")\n",
    "\n",
    "# for clip in clips:\n",
    "#     title = clip.select_one(\"dt.title\")\n",
    "#     chn = clip.select_one(\"dd.chn\")\n",
    "#     hit = clip.select_one(\"span.hit\")\n",
    "#     like = clip.select_one(\"span.like\")clip in clips:\n",
    "    \n",
    "    \n",
    "#     sheet.append([title. chn, int(hit), int(like)])"
   ]
  },
  {
   "cell_type": "code",
   "execution_count": 52,
   "metadata": {},
   "outputs": [],
   "source": [
    "# MAX=100\n",
    "# keyword = input(\"수집 키워드\")\n",
    "# for n in range(1,MAX,10):\n",
    "#     raw = requests.get(\"https://search.naver.com/search.naver?where=news&sm=tab_jum&query=\"+keyword+\"&start=\"str(n),headers={'User-Agent':'Mozilla/5.0'})\n",
    "#     html = BeautifulSoup(raw.text, \"html.parser\")\n",
    "#     articles = html.select(\"ul.type01 > li\")\n",
    "    \n",
    "#     for article in articles:\n",
    "#         title = article.select_one(\"a._sp_each_title\").text\n",
    "#         source = article.select_one(\"span._sp_each_source\").text\n",
    "\n",
    "#         print(title,source)\n",
    "\n",
    "\n",
    "# \"\"\"키워드로 검색어가 들어가는 부분을 교체해주면 프로그램에서 검색을 할 수 있다\"\"\""
   ]
  },
  {
   "cell_type": "code",
   "execution_count": 43,
   "metadata": {},
   "outputs": [
    {
     "name": "stdout",
     "output_type": "stream",
     "text": [
      "신규 파일 생성!\n"
     ]
    }
   ],
   "source": [
    "try:\n",
    "    wb = openpyxl.load_workbook(\"navernews.xlsx\")\n",
    "    sheet = wb.active\n",
    "    print(\"불러오기 성공!\")\n",
    "    \n",
    "except:\n",
    "    wb = openpyxl.Workbook()\n",
    "    sheet = wb.active\n",
    "    sheet.append([\"기사제목\",\"언론사\"])\n",
    "    print(\"신규 파일 생성!\")\n",
    "# 새로운 파일이 없으면 파일을 만들고, 있으면 기존 파일을 불러오는 코드     \n",
    "# try-except문: try을 실행했는데 error가 발생하면 try를 취소시키고 except문을 실행한다!\n",
    "\n",
    "# for n in range(1,100,10):"
   ]
  },
  {
   "cell_type": "code",
   "execution_count": 45,
   "metadata": {},
   "outputs": [],
   "source": [
    "raw = requests.get(\"https://movie.naver.com/movie/running/current.nhn\")\n",
    "#raw데이터를 주소로 받아오고\n",
    "\n",
    "headers = BeautifulSoup(raw.text, 'html.parser')\n",
    "# 받은 데이터를 파싱한다 뷰티풀수프로"
   ]
  },
  {
   "cell_type": "code",
   "execution_count": 70,
   "metadata": {},
   "outputs": [],
   "source": [
    "\n",
    "raw = requests.get(\"https://movie.naver.com/movie/running/current.nhn\")\n",
    "#raw데이터를 주소로 받아오고\n",
    "\n",
    "headers = BeautifulSoup(raw.text, 'html.parser')\n",
    "# 받은 데이터를 파싱한다 뷰티풀수프로\n",
    "movie = html.select(\"dl.lst_dsc\")\n",
    "#컨테이너 셀럭터를 조사해서 컨테이너 안의 반복문을 통해:\n",
    "\n",
    "for m in movie:\n",
    "    title = m.select_one(\"dt.tit a\") #class는 . 으로 쓰고 자손은 그냥 띄어쓰기로 좀 더 구체적으로 지칭을 해주면 더 좋다\n",
    "    score = m.select_one(\"div.star_t1 span.num\") #ctrl F로 갯수 파악해보기\n",
    "    \n",
    "    info = m.select(\"dl.info_txt1 dd\")\n",
    "    genre = info[0].select_one(\"a\")\n",
    "    directors = info[1].select_one(\"a\")\n",
    "    actors = info[2].select_one(\"a\")\n",
    "    \n",
    "    if float(score.text) < 8.5:\n",
    "        continue #이런 조건문을 달아서 검열해서 출력할 수 있다!\n",
    "        #continue는 자신이 속해있는 반복문을 다음 반복으로 넘깁니다. 주로 조건문 if와 사용된다.\n",
    "    \n",
    "    #select가 리스트임을 활용, 같은 선택자인 것들을 좀더 효율적으로 저장할 수 도 있다.\n",
    "    \n",
    "    #다른 방법: dd:nth-of-type(n)\n",
    "#     genre = m.select(\"dl.info_txt1 dd:nth-of-type(1) a\")\n",
    "#     directors = m.select(\"dl.info_txt1 dd:nth-of-type(2) a\")\n",
    "#     actors = m.select(\"dl.info_txt1 dd:nth-of-type(3) a\")\n",
    "    \n",
    "    print(\"=\"*50)\n",
    "    print(\"제목:\",title.text)\n",
    "    \n",
    "    print(\"=\"*50)\n",
    "    print(\"평점\",score.text)\n",
    "    \n",
    "    print(\"=\"*50)\n",
    "    print(\"장르\")\n",
    "    for g in genre:\n",
    "        print(g.text)\n",
    "    \n",
    "    print(\"=\"*50)\n",
    "    print(\"감독:\")\n",
    "    for d in directors: #data 타입이 리스트일 경우 꺼내서\n",
    "        print(d.text)"
   ]
  },
  {
   "cell_type": "code",
   "execution_count": 59,
   "metadata": {},
   "outputs": [
    {
     "name": "stdout",
     "output_type": "stream",
     "text": [
      "780\n",
      "최저임금보다 적어요 :(\n"
     ]
    }
   ],
   "source": [
    "pay = int(input())\n",
    "if pay > 8350:\n",
    "    print(\"적절한 시급입니다. :)\")\n",
    "else:\n",
    "    print(\"최저임금보다 적어요 :(\")"
   ]
  },
  {
   "cell_type": "code",
   "execution_count": 61,
   "metadata": {},
   "outputs": [
    {
     "name": "stdout",
     "output_type": "stream",
     "text": [
      "7\n",
      "10\n",
      "6\n",
      "9\n",
      "8\n"
     ]
    }
   ],
   "source": [
    "numbers = [7,2,3,1,10,6,4,9,8,5]\n",
    "for i in numbers:\n",
    "    if i>5:\n",
    "        print(i)"
   ]
  },
  {
   "cell_type": "code",
   "execution_count": 66,
   "metadata": {},
   "outputs": [
    {
     "name": "stdout",
     "output_type": "stream",
     "text": [
      "7 *\n",
      "2 *\n",
      "3 *\n",
      "1 *\n",
      "10\n",
      "6\n",
      "4 *\n",
      "9 *\n",
      "8\n",
      "5 *\n"
     ]
    }
   ],
   "source": [
    "for i in numbers:\n",
    "    if (i>5) and (i%2 == 0):\n",
    "        print(i)\n",
    "    else:\n",
    "        print(i, \"*\")"
   ]
  },
  {
   "cell_type": "code",
   "execution_count": 68,
   "metadata": {},
   "outputs": [
    {
     "name": "stdout",
     "output_type": "stream",
     "text": [
      "손흥민이 나오는 기사\n",
      "손흥민이 안 나오는 기사\n",
      "손흥민이 안 나오는 기사\n",
      "선수 이름을 입력해주세요 : 이강인\n",
      "출전하는 선수입니다.\n"
     ]
    }
   ],
   "source": [
    "articles = [\"손흥민은 손으로 상대의 얼굴을 밀며 맞받아쳤다\", \"AS로마의 니콜로 자니몰로\", \"김동영이보경엄동근\"]\n",
    "\n",
    "for a in articles:\n",
    "    if \"손흥민\" in a:\n",
    "        print(\"손흥민이 나오는 기사\")\n",
    "    elif \"손흥민\" not in a:\n",
    "        print(\"손흥민이 안 나오는 기사\")\n",
    "    \n",
    "players = [\"손흥민\", \"이강인\", \"캐빈하르\", \"백승호\", \"황의조\"]\n",
    "\n",
    "name = input(\"선수 이름을 입력해주세요 : \")\n",
    "if name in players:\n",
    "    print(\"출전하는 선수입니다.\")\n",
    "else:\n",
    "    print(\"출저하지 않는 선수입니다.\")"
   ]
  },
  {
   "cell_type": "code",
   "execution_count": 69,
   "metadata": {},
   "outputs": [
    {
     "data": {
      "text/plain": [
       "True"
      ]
     },
     "execution_count": 69,
     "metadata": {},
     "output_type": "execute_result"
    }
   ],
   "source": [
    "\"손흥민\" in players"
   ]
  },
  {
   "cell_type": "code",
   "execution_count": null,
   "metadata": {},
   "outputs": [],
   "source": []
  }
 ],
 "metadata": {
  "kernelspec": {
   "display_name": "Python 3",
   "language": "python",
   "name": "python3"
  },
  "language_info": {
   "codemirror_mode": {
    "name": "ipython",
    "version": 3
   },
   "file_extension": ".py",
   "mimetype": "text/x-python",
   "name": "python",
   "nbconvert_exporter": "python",
   "pygments_lexer": "ipython3",
   "version": "3.8.3"
  }
 },
 "nbformat": 4,
 "nbformat_minor": 4
}
