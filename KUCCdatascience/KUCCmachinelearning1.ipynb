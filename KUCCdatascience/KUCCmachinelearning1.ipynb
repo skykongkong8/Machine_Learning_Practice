{
 "cells": [
  {
   "cell_type": "code",
   "execution_count": 19,
   "metadata": {},
   "outputs": [],
   "source": [
    "import pandas as pd\n",
    "from sklearn import datasets\n",
    "from sklearn.model_selection import train_test_split\n",
    "from sklearn.linear_model import LinearRegression\n",
    "from sklearn.preprocessing import PolynomialFeatures"
   ]
  },
  {
   "cell_type": "code",
   "execution_count": 4,
   "metadata": {},
   "outputs": [],
   "source": [
    "Boston_datasets = datasets.load_boston()"
   ]
  },
  {
   "cell_type": "code",
   "execution_count": 8,
   "metadata": {},
   "outputs": [
    {
     "name": "stdout",
     "output_type": "stream",
     "text": [
      "        CRIM    ZN  INDUS  CHAS    NOX     RM   AGE     DIS  RAD    TAX  \\\n",
      "0    0.00632  18.0   2.31   0.0  0.538  6.575  65.2  4.0900  1.0  296.0   \n",
      "1    0.02731   0.0   7.07   0.0  0.469  6.421  78.9  4.9671  2.0  242.0   \n",
      "2    0.02729   0.0   7.07   0.0  0.469  7.185  61.1  4.9671  2.0  242.0   \n",
      "3    0.03237   0.0   2.18   0.0  0.458  6.998  45.8  6.0622  3.0  222.0   \n",
      "4    0.06905   0.0   2.18   0.0  0.458  7.147  54.2  6.0622  3.0  222.0   \n",
      "..       ...   ...    ...   ...    ...    ...   ...     ...  ...    ...   \n",
      "501  0.06263   0.0  11.93   0.0  0.573  6.593  69.1  2.4786  1.0  273.0   \n",
      "502  0.04527   0.0  11.93   0.0  0.573  6.120  76.7  2.2875  1.0  273.0   \n",
      "503  0.06076   0.0  11.93   0.0  0.573  6.976  91.0  2.1675  1.0  273.0   \n",
      "504  0.10959   0.0  11.93   0.0  0.573  6.794  89.3  2.3889  1.0  273.0   \n",
      "505  0.04741   0.0  11.93   0.0  0.573  6.030  80.8  2.5050  1.0  273.0   \n",
      "\n",
      "     PTRATIO       B  LSTAT  \n",
      "0       15.3  396.90   4.98  \n",
      "1       17.8  396.90   9.14  \n",
      "2       17.8  392.83   4.03  \n",
      "3       18.7  394.63   2.94  \n",
      "4       18.7  396.90   5.33  \n",
      "..       ...     ...    ...  \n",
      "501     21.0  391.99   9.67  \n",
      "502     21.0  396.90   9.08  \n",
      "503     21.0  396.90   5.64  \n",
      "504     21.0  393.45   6.48  \n",
      "505     21.0  396.90   7.88  \n",
      "\n",
      "[506 rows x 13 columns]\n"
     ]
    }
   ],
   "source": [
    "X=pd.DataFrame(Boston_datasets.data, columns=Boston_datasets.feature_names)\n",
    "print(X) #CRIM is our target\n",
    "Y = pd.DataFrame(Boston_datasets.target, columns=[\"CRIM\"])"
   ]
  },
  {
   "cell_type": "code",
   "execution_count": 16,
   "metadata": {},
   "outputs": [],
   "source": [
    "X_train, Y_train, X_test, Y_test = train_test_split(X,Y, test_size=0.2, random_state=5)"
   ]
  },
  {
   "cell_type": "code",
   "execution_count": 17,
   "metadata": {},
   "outputs": [],
   "source": [
    "model = LinearRegression()\n",
    "model.fit()"
   ]
  },
  {
   "cell_type": "code",
   "execution_count": 20,
   "metadata": {},
   "outputs": [
    {
     "name": "stdout",
     "output_type": "stream",
     "text": [
      "Hello World\n"
     ]
    }
   ],
   "source": [
    "print('Hello World')"
   ]
  },
  {
   "cell_type": "markdown",
   "metadata": {},
   "source": [
    "# 큰 제목: 안녕하세요?\n",
    "## 작은 제목: 주피터 노트북 편하지\n",
    "\n",
    "` 1 옆에 있는 기호를 누르면 이런 것도 할 수 있어요 `\n",
    "\n",
    "*기울기*\n"
   ]
  },
  {
   "cell_type": "markdown",
   "metadata": {},
   "source": [
    "# 순서 없는 리스트\n",
    "\n",
    "- 순서없는 리스트 목록 1\n",
    "- 순서없는 리스트 목록 2\n",
    "    -앞에 두 칸 띄고\n",
    "      또 두 칸 띄고\n",
    "# 순서 있는 리스트\n",
    "1. 순서 있는 리스트 목록1\n",
    "1. 순서 있는 리스트 목록1\n"
   ]
  },
  {
   "cell_type": "markdown",
   "metadata": {},
   "source": [
    "---\n",
    "## 이미지를 넣고 싶다면:\n",
    "![이것은 아무 이미지 입니다.]\n",
    "(https://i.pinimg.com/originals/25/cb/12/25cb125f913f7af06ef4560d65fa75c7.png)\n"
   ]
  },
  {
   "cell_type": "markdown",
   "metadata": {},
   "source": [
    "```python\n",
    "when_will_sklearn_start=input(\"언제 할지 알려주세요\")\n",
    "print(f\"{when_will_sklearn_start}\")\n",
    "```\n",
    "\n"
   ]
  },
  {
   "cell_type": "code",
   "execution_count": 26,
   "metadata": {},
   "outputs": [
    {
     "name": "stdout",
     "output_type": "stream",
     "text": [
      "this is boring\n",
      "this is boring\n"
     ]
    }
   ],
   "source": [
    "a = 'this is boring'\n",
    "b=a\n",
    "print(a)\n",
    "print(b)"
   ]
  },
  {
   "cell_type": "code",
   "execution_count": 28,
   "metadata": {},
   "outputs": [
    {
     "name": "stdout",
     "output_type": "stream",
     "text": [
      "여러 줄에 걸쳐 문자열을 \n",
      "쓰려면 어떻게 할지 맨날 헷갈렸지??\n",
      "이렇게\n",
      "하\n",
      "면\n",
      "되지롱 아마도 될거야\n",
      "안되면 어떡하지\n"
     ]
    }
   ],
   "source": [
    "long_name = \"\"\"여러 줄에 걸쳐 문자열을 \n",
    "쓰려면 어떻게 할지 맨날 헷갈렸지??\n",
    "이렇게\n",
    "하\n",
    "면\n",
    "되지롱 아마도 될거야\n",
    "안되면 어떡하지\"\"\"\n",
    "\n",
    "print(long_name)"
   ]
  },
  {
   "cell_type": "code",
   "execution_count": 29,
   "metadata": {},
   "outputs": [
    {
     "name": "stdout",
     "output_type": "stream",
     "text": [
      "666666\n"
     ]
    }
   ],
   "source": [
    "a = 666666\n",
    "if a>2:\n",
    "    print(f'{a}')\n",
    "else:\n",
    "    pass"
   ]
  },
  {
   "cell_type": "code",
   "execution_count": 30,
   "metadata": {},
   "outputs": [
    {
     "name": "stdout",
     "output_type": "stream",
     "text": [
      "danoyo\n"
     ]
    }
   ],
   "source": [
    "if a>2 and a<8:\n",
    "    print('damadane')\n",
    "else:\n",
    "    print('danoyo')"
   ]
  },
  {
   "cell_type": "code",
   "execution_count": 31,
   "metadata": {},
   "outputs": [
    {
     "name": "stdout",
     "output_type": "stream",
     "text": [
      "good\n",
      "soso\n",
      "soso\n",
      "piss off\n"
     ]
    }
   ],
   "source": [
    "scroe = [100,80,90,70]\n",
    "for i in scroe:\n",
    "    if i>90:\n",
    "        print('good')\n",
    "    elif i >76:\n",
    "        print('soso')\n",
    "    else:\n",
    "        print('piss off')"
   ]
  },
  {
   "cell_type": "code",
   "execution_count": 32,
   "metadata": {},
   "outputs": [
    {
     "name": "stdout",
     "output_type": "stream",
     "text": [
      "congrats\n"
     ]
    }
   ],
   "source": [
    "age = 25\n",
    "score = 80\n",
    "if age > 20:\n",
    "    if score>75:\n",
    "        print('congrats')\n",
    "else:\n",
    "    print('piss off')"
   ]
  },
  {
   "cell_type": "code",
   "execution_count": 35,
   "metadata": {},
   "outputs": [
    {
     "name": "stdout",
     "output_type": "stream",
     "text": [
      "congrats\n"
     ]
    }
   ],
   "source": [
    "class Fella:\n",
    "    def __init__(self, age, score):\n",
    "        self.age = age\n",
    "        self.score = score\n",
    "def test(fellas):\n",
    "    if fellas.age>20 and fellas.score > 75:\n",
    "        return 'congrats'\n",
    "f1 = Fella(80,88)\n",
    "\n",
    "print(test(f1))"
   ]
  },
  {
   "cell_type": "code",
   "execution_count": 42,
   "metadata": {},
   "outputs": [
    {
     "name": "stdout",
     "output_type": "stream",
     "text": [
      "소희\n",
      "dict_keys(['name', 'birth', 'address', 'gender', 'point'])\n"
     ]
    }
   ],
   "source": [
    "my_name = '소희'\n",
    "birth = 948484\n",
    "addr = 'nowhere'\n",
    "\n",
    "user_info = {\n",
    "    \"name\" : my_name,\n",
    "    \"birth\": birth,\n",
    "    \"address\" : addr,\n",
    "    \"gender\" : \"female\",\n",
    "    \"point\" : 0\n",
    "}\n",
    "\n",
    "print(user_info[\"name\"])\n",
    "print(user_info.keys())"
   ]
  },
  {
   "cell_type": "code",
   "execution_count": 48,
   "metadata": {},
   "outputs": [
    {
     "name": "stdout",
     "output_type": "stream",
     "text": [
      "[[1, 2, 3, 4], [4, 5, 6]]\n",
      "6\n"
     ]
    }
   ],
   "source": [
    "my_list = [1,2,3,4]; a = [4,5,6]\n",
    "my_list2=[]\n",
    "my_list2.append(my_list)\n",
    "my_list2.append(a)\n",
    "print(my_list2)\n",
    "\n",
    "print(my_list2[1][2])"
   ]
  },
  {
   "cell_type": "code",
   "execution_count": null,
   "metadata": {},
   "outputs": [],
   "source": []
  }
 ],
 "metadata": {
  "kernelspec": {
   "display_name": "Python 3",
   "language": "python",
   "name": "python3"
  },
  "language_info": {
   "codemirror_mode": {
    "name": "ipython",
    "version": 3
   },
   "file_extension": ".py",
   "mimetype": "text/x-python",
   "name": "python",
   "nbconvert_exporter": "python",
   "pygments_lexer": "ipython3",
   "version": "3.8.3"
  }
 },
 "nbformat": 4,
 "nbformat_minor": 4
}
