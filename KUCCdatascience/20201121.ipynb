{
 "cells": [
  {
   "cell_type": "code",
   "execution_count": 2,
   "metadata": {},
   "outputs": [],
   "source": [
    "data = {\n",
    "    \"name\" : ['고양이', '펭귄', '닭', '타조', '참새'],\n",
    "    'wing' : [False, True, True, True, True],\n",
    "    'weight' : ['light', 'heavy', 'light', 'heavy', 'light'],\n",
    "    'density' : ['low', 'high','high', 'high', 'low'],\n",
    "    'fly' : [False, False, False, False ,True]\n",
    " }"
   ]
  },
  {
   "cell_type": "code",
   "execution_count": 4,
   "metadata": {},
   "outputs": [
    {
     "name": "stdout",
     "output_type": "stream",
     "text": [
      "고양이는 날개가 있을까?: False\n"
     ]
    }
   ],
   "source": [
    "print(\"고양이는 날개가 있을까?:\", data['wing'][0])"
   ]
  },
  {
   "cell_type": "code",
   "execution_count": 5,
   "metadata": {},
   "outputs": [],
   "source": [
    "data = {\n",
    "    'age' : [28,22,11,10],\n",
    "    'fsize' : [270,235,280,220],\n",
    "    'gender' : ['male', 'female', 'male', 'female']\n",
    "}"
   ]
  },
  {
   "cell_type": "code",
   "execution_count": 9,
   "metadata": {},
   "outputs": [
    {
     "name": "stdout",
     "output_type": "stream",
     "text": [
      "1번 : 성별을 확인합니다\n",
      "male\n"
     ]
    }
   ],
   "source": [
    "target_index = 0\n",
    "target_names = ['1번', '2번','3번', '4번']\n",
    "print(target_names[target_index], ': 성별을 확인합니다')\n",
    "\n",
    "if data['age'][target_index]<=20:\n",
    "    if data['fsize'][target_index]<=250:\n",
    "        print('female')\n",
    "    else:\n",
    "        print(\"male\")\n",
    "else:\n",
    "    if data['fsize'][target_index]>=260:\n",
    "        print('male')\n",
    "    else:\n",
    "        print('female')\n",
    "        "
   ]
  },
  {
   "cell_type": "code",
   "execution_count": 10,
   "metadata": {},
   "outputs": [],
   "source": [
    "import pandas as pd"
   ]
  },
  {
   "cell_type": "code",
   "execution_count": null,
   "metadata": {},
   "outputs": [],
   "source": []
  }
 ],
 "metadata": {
  "kernelspec": {
   "display_name": "Python 3",
   "language": "python",
   "name": "python3"
  },
  "language_info": {
   "codemirror_mode": {
    "name": "ipython",
    "version": 3
   },
   "file_extension": ".py",
   "mimetype": "text/x-python",
   "name": "python",
   "nbconvert_exporter": "python",
   "pygments_lexer": "ipython3",
   "version": "3.8.3"
  }
 },
 "nbformat": 4,
 "nbformat_minor": 4
}
