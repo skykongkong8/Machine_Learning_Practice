{
 "cells": [
  {
   "cell_type": "code",
   "execution_count": 10,
   "metadata": {},
   "outputs": [],
   "source": [
    "data = [(1,2),(2,2.5),(3,2),(3,3),(4,3),(5,5),(6,2),(7,4),(8,5)]\n"
   ]
  },
  {
   "cell_type": "code",
   "execution_count": 11,
   "metadata": {},
   "outputs": [
    {
     "data": {
      "text/plain": [
       "9.75"
      ]
     },
     "execution_count": 11,
     "metadata": {},
     "output_type": "execute_result"
    }
   ],
   "source": [
    "a = 0.5\n",
    "b= 0.5\n",
    "sums =0\n",
    "#예상 1차 직선 predict와  실측값의 차의 제곱의 합 출력--얼마나 오차가 나타나는지 -- root하면 rmse라고 함! 기억나지?\n",
    "for (x,y) in data:\n",
    "    predict = a*x +b\n",
    "    sums += (y-predict)*(y-predict)\n",
    "sums"
   ]
  },
  {
   "cell_type": "code",
   "execution_count": 25,
   "metadata": {},
   "outputs": [
    {
     "data": {
      "text/plain": [
       "6.650000000000001"
      ]
     },
     "execution_count": 25,
     "metadata": {},
     "output_type": "execute_result"
    }
   ],
   "source": [
    "a = 0.4\n",
    "b= 1.4 # 더 좋은 값을 넣으면 오차가 더 작아지는 것을 알 수 있음 -- 직선을 결정하는 변수를 어떻게 탐색할 것인가에 대한 고민.\n",
    "sums =0\n",
    "for (x,y) in data:\n",
    "    predict = a*x +b\n",
    "    sums += (y-predict)*(y-predict)\n",
    "sums"
   ]
  },
  {
   "cell_type": "code",
   "execution_count": 29,
   "metadata": {},
   "outputs": [
    {
     "name": "stdout",
     "output_type": "stream",
     "text": [
      "0.35000000000000003 1.6500000000000001 6.539999999999999\n"
     ]
    }
   ],
   "source": [
    "import numpy as np\n",
    "min_a =0\n",
    "min_b =0\n",
    "min_sums =999999999\n",
    "for a in np.arange(0,5,0.01):\n",
    "    for b in np.arange(0,5,0.01):\n",
    "        sums =0\n",
    "        for (x,y) in data:\n",
    "            predict = a*x + b\n",
    "            sums+= (y- predict)**2\n",
    "        if sums < min_sums:\n",
    "            min_a =a\n",
    "            min_b =b\n",
    "            min_sums = sums\n",
    "print(min_a, min_b, min_sums)"
   ]
  },
  {
   "cell_type": "code",
   "execution_count": 30,
   "metadata": {},
   "outputs": [],
   "source": [
    "from sklearn import datasets"
   ]
  },
  {
   "cell_type": "code",
   "execution_count": null,
   "metadata": {},
   "outputs": [],
   "source": []
  }
 ],
 "metadata": {
  "kernelspec": {
   "display_name": "Python 3",
   "language": "python",
   "name": "python3"
  },
  "language_info": {
   "codemirror_mode": {
    "name": "ipython",
    "version": 3
   },
   "file_extension": ".py",
   "mimetype": "text/x-python",
   "name": "python",
   "nbconvert_exporter": "python",
   "pygments_lexer": "ipython3",
   "version": "3.8.3"
  }
 },
 "nbformat": 4,
 "nbformat_minor": 4
}
